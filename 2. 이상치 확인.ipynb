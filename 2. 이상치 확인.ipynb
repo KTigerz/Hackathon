{
 "cells": [
  {
   "cell_type": "code",
   "execution_count": 1,
   "metadata": {},
   "outputs": [],
   "source": [
    "import pandas as pd\n",
    "import numpy as np\n",
    "import matplotlib.pyplot as plt\n",
    "import matplotlib.ticker as ticker\n",
    "import seaborn as sns\n",
    "from datetime import datetime\n",
    "import warnings\n",
    "warnings.filterwarnings(\"ignore\")"
   ]
  },
  {
   "cell_type": "code",
   "execution_count": 3,
   "metadata": {},
   "outputs": [
    {
     "data": {
      "text/html": [
       "<div>\n",
       "<style scoped>\n",
       "    .dataframe tbody tr th:only-of-type {\n",
       "        vertical-align: middle;\n",
       "    }\n",
       "\n",
       "    .dataframe tbody tr th {\n",
       "        vertical-align: top;\n",
       "    }\n",
       "\n",
       "    .dataframe thead th {\n",
       "        text-align: right;\n",
       "    }\n",
       "</style>\n",
       "<table border=\"1\" class=\"dataframe\">\n",
       "  <thead>\n",
       "    <tr style=\"text-align: right;\">\n",
       "      <th></th>\n",
       "      <th>category</th>\n",
       "      <th>amt</th>\n",
       "      <th>gender</th>\n",
       "      <th>is_fraud</th>\n",
       "      <th>distance</th>\n",
       "      <th>age</th>\n",
       "      <th>recency</th>\n",
       "      <th>city_pop_category</th>\n",
       "      <th>trans_hour_category</th>\n",
       "      <th>trans_month_category</th>\n",
       "      <th>region</th>\n",
       "    </tr>\n",
       "  </thead>\n",
       "  <tbody>\n",
       "    <tr>\n",
       "      <th>0</th>\n",
       "      <td>misc_net</td>\n",
       "      <td>4.97</td>\n",
       "      <td>F</td>\n",
       "      <td>0</td>\n",
       "      <td>48.838332</td>\n",
       "      <td>31</td>\n",
       "      <td>0.0</td>\n",
       "      <td>소도시</td>\n",
       "      <td>night</td>\n",
       "      <td>상반기</td>\n",
       "      <td>south</td>\n",
       "    </tr>\n",
       "    <tr>\n",
       "      <th>1</th>\n",
       "      <td>grocery_pos</td>\n",
       "      <td>107.23</td>\n",
       "      <td>F</td>\n",
       "      <td>0</td>\n",
       "      <td>18.773002</td>\n",
       "      <td>41</td>\n",
       "      <td>0.0</td>\n",
       "      <td>소도시</td>\n",
       "      <td>night</td>\n",
       "      <td>상반기</td>\n",
       "      <td>west</td>\n",
       "    </tr>\n",
       "    <tr>\n",
       "      <th>2</th>\n",
       "      <td>entertainment</td>\n",
       "      <td>220.11</td>\n",
       "      <td>M</td>\n",
       "      <td>0</td>\n",
       "      <td>67.236235</td>\n",
       "      <td>57</td>\n",
       "      <td>0.0</td>\n",
       "      <td>소도시</td>\n",
       "      <td>night</td>\n",
       "      <td>상반기</td>\n",
       "      <td>west</td>\n",
       "    </tr>\n",
       "    <tr>\n",
       "      <th>3</th>\n",
       "      <td>gas_transport</td>\n",
       "      <td>45.00</td>\n",
       "      <td>M</td>\n",
       "      <td>0</td>\n",
       "      <td>59.448672</td>\n",
       "      <td>52</td>\n",
       "      <td>0.0</td>\n",
       "      <td>소도시</td>\n",
       "      <td>night</td>\n",
       "      <td>상반기</td>\n",
       "      <td>west</td>\n",
       "    </tr>\n",
       "    <tr>\n",
       "      <th>4</th>\n",
       "      <td>misc_pos</td>\n",
       "      <td>41.96</td>\n",
       "      <td>M</td>\n",
       "      <td>0</td>\n",
       "      <td>48.191593</td>\n",
       "      <td>33</td>\n",
       "      <td>0.0</td>\n",
       "      <td>소도시</td>\n",
       "      <td>night</td>\n",
       "      <td>상반기</td>\n",
       "      <td>south</td>\n",
       "    </tr>\n",
       "  </tbody>\n",
       "</table>\n",
       "</div>"
      ],
      "text/plain": [
       "        category     amt gender  is_fraud   distance  age  recency  \\\n",
       "0       misc_net    4.97      F         0  48.838332   31      0.0   \n",
       "1    grocery_pos  107.23      F         0  18.773002   41      0.0   \n",
       "2  entertainment  220.11      M         0  67.236235   57      0.0   \n",
       "3  gas_transport   45.00      M         0  59.448672   52      0.0   \n",
       "4       misc_pos   41.96      M         0  48.191593   33      0.0   \n",
       "\n",
       "  city_pop_category trans_hour_category trans_month_category region  \n",
       "0               소도시               night                  상반기  south  \n",
       "1               소도시               night                  상반기   west  \n",
       "2               소도시               night                  상반기   west  \n",
       "3               소도시               night                  상반기   west  \n",
       "4               소도시               night                  상반기  south  "
      ]
     },
     "execution_count": 3,
     "metadata": {},
     "output_type": "execute_result"
    }
   ],
   "source": [
    "df = pd.read_csv('./datasets/1.EDA완료.csv', encoding=\"utf-8-sig\",index_col=0)\n",
    "df.head()"
   ]
  },
  {
   "cell_type": "code",
   "execution_count": 4,
   "metadata": {},
   "outputs": [
    {
     "data": {
      "text/html": [
       "<div>\n",
       "<style scoped>\n",
       "    .dataframe tbody tr th:only-of-type {\n",
       "        vertical-align: middle;\n",
       "    }\n",
       "\n",
       "    .dataframe tbody tr th {\n",
       "        vertical-align: top;\n",
       "    }\n",
       "\n",
       "    .dataframe thead th {\n",
       "        text-align: right;\n",
       "    }\n",
       "</style>\n",
       "<table border=\"1\" class=\"dataframe\">\n",
       "  <thead>\n",
       "    <tr style=\"text-align: right;\">\n",
       "      <th></th>\n",
       "      <th>amt</th>\n",
       "      <th>distance</th>\n",
       "      <th>age</th>\n",
       "      <th>recency</th>\n",
       "    </tr>\n",
       "  </thead>\n",
       "  <tbody>\n",
       "    <tr>\n",
       "      <th>0</th>\n",
       "      <td>4.97</td>\n",
       "      <td>48.838332</td>\n",
       "      <td>31</td>\n",
       "      <td>0.0</td>\n",
       "    </tr>\n",
       "    <tr>\n",
       "      <th>1</th>\n",
       "      <td>107.23</td>\n",
       "      <td>18.773002</td>\n",
       "      <td>41</td>\n",
       "      <td>0.0</td>\n",
       "    </tr>\n",
       "    <tr>\n",
       "      <th>2</th>\n",
       "      <td>220.11</td>\n",
       "      <td>67.236235</td>\n",
       "      <td>57</td>\n",
       "      <td>0.0</td>\n",
       "    </tr>\n",
       "    <tr>\n",
       "      <th>3</th>\n",
       "      <td>45.00</td>\n",
       "      <td>59.448672</td>\n",
       "      <td>52</td>\n",
       "      <td>0.0</td>\n",
       "    </tr>\n",
       "    <tr>\n",
       "      <th>4</th>\n",
       "      <td>41.96</td>\n",
       "      <td>48.191593</td>\n",
       "      <td>33</td>\n",
       "      <td>0.0</td>\n",
       "    </tr>\n",
       "    <tr>\n",
       "      <th>...</th>\n",
       "      <td>...</td>\n",
       "      <td>...</td>\n",
       "      <td>...</td>\n",
       "      <td>...</td>\n",
       "    </tr>\n",
       "    <tr>\n",
       "      <th>1296670</th>\n",
       "      <td>15.56</td>\n",
       "      <td>74.410630</td>\n",
       "      <td>59</td>\n",
       "      <td>16781.0</td>\n",
       "    </tr>\n",
       "    <tr>\n",
       "      <th>1296671</th>\n",
       "      <td>51.70</td>\n",
       "      <td>46.667580</td>\n",
       "      <td>41</td>\n",
       "      <td>7962.0</td>\n",
       "    </tr>\n",
       "    <tr>\n",
       "      <th>1296672</th>\n",
       "      <td>105.93</td>\n",
       "      <td>61.545493</td>\n",
       "      <td>53</td>\n",
       "      <td>29074.0</td>\n",
       "    </tr>\n",
       "    <tr>\n",
       "      <th>1296673</th>\n",
       "      <td>74.90</td>\n",
       "      <td>52.585258</td>\n",
       "      <td>40</td>\n",
       "      <td>91018.0</td>\n",
       "    </tr>\n",
       "    <tr>\n",
       "      <th>1296674</th>\n",
       "      <td>4.30</td>\n",
       "      <td>52.104318</td>\n",
       "      <td>25</td>\n",
       "      <td>44250.0</td>\n",
       "    </tr>\n",
       "  </tbody>\n",
       "</table>\n",
       "<p>1296675 rows × 4 columns</p>\n",
       "</div>"
      ],
      "text/plain": [
       "            amt   distance  age  recency\n",
       "0          4.97  48.838332   31      0.0\n",
       "1        107.23  18.773002   41      0.0\n",
       "2        220.11  67.236235   57      0.0\n",
       "3         45.00  59.448672   52      0.0\n",
       "4         41.96  48.191593   33      0.0\n",
       "...         ...        ...  ...      ...\n",
       "1296670   15.56  74.410630   59  16781.0\n",
       "1296671   51.70  46.667580   41   7962.0\n",
       "1296672  105.93  61.545493   53  29074.0\n",
       "1296673   74.90  52.585258   40  91018.0\n",
       "1296674    4.30  52.104318   25  44250.0\n",
       "\n",
       "[1296675 rows x 4 columns]"
      ]
     },
     "execution_count": 4,
     "metadata": {},
     "output_type": "execute_result"
    }
   ],
   "source": [
    "# 수치형 데이터 이상치 확인하기 위한 데이터프레임 \n",
    "num_df = df[['amt','distance','age','recency']]\n",
    "num_df"
   ]
  },
  {
   "cell_type": "code",
   "execution_count": 5,
   "metadata": {},
   "outputs": [
    {
     "data": {
      "text/html": [
       "<div>\n",
       "<style scoped>\n",
       "    .dataframe tbody tr th:only-of-type {\n",
       "        vertical-align: middle;\n",
       "    }\n",
       "\n",
       "    .dataframe tbody tr th {\n",
       "        vertical-align: top;\n",
       "    }\n",
       "\n",
       "    .dataframe thead th {\n",
       "        text-align: right;\n",
       "    }\n",
       "</style>\n",
       "<table border=\"1\" class=\"dataframe\">\n",
       "  <thead>\n",
       "    <tr style=\"text-align: right;\">\n",
       "      <th></th>\n",
       "      <th>amt</th>\n",
       "      <th>distance</th>\n",
       "      <th>age</th>\n",
       "      <th>recency</th>\n",
       "    </tr>\n",
       "  </thead>\n",
       "  <tbody>\n",
       "    <tr>\n",
       "      <th>count</th>\n",
       "      <td>1.296675e+06</td>\n",
       "      <td>1.296675e+06</td>\n",
       "      <td>1.296675e+06</td>\n",
       "      <td>1.296675e+06</td>\n",
       "    </tr>\n",
       "    <tr>\n",
       "      <th>mean</th>\n",
       "      <td>7.035104e+01</td>\n",
       "      <td>4.729552e+01</td>\n",
       "      <td>4.602930e+01</td>\n",
       "      <td>3.246039e+04</td>\n",
       "    </tr>\n",
       "    <tr>\n",
       "      <th>std</th>\n",
       "      <td>1.603160e+02</td>\n",
       "      <td>1.809245e+01</td>\n",
       "      <td>1.738237e+01</td>\n",
       "      <td>4.733114e+04</td>\n",
       "    </tr>\n",
       "    <tr>\n",
       "      <th>min</th>\n",
       "      <td>1.000000e+00</td>\n",
       "      <td>1.382833e-02</td>\n",
       "      <td>1.400000e+01</td>\n",
       "      <td>0.000000e+00</td>\n",
       "    </tr>\n",
       "    <tr>\n",
       "      <th>25%</th>\n",
       "      <td>9.650000e+00</td>\n",
       "      <td>3.438357e+01</td>\n",
       "      <td>3.300000e+01</td>\n",
       "      <td>6.004000e+03</td>\n",
       "    </tr>\n",
       "    <tr>\n",
       "      <th>50%</th>\n",
       "      <td>4.752000e+01</td>\n",
       "      <td>4.861102e+01</td>\n",
       "      <td>4.400000e+01</td>\n",
       "      <td>1.656300e+04</td>\n",
       "    </tr>\n",
       "    <tr>\n",
       "      <th>75%</th>\n",
       "      <td>8.314000e+01</td>\n",
       "      <td>6.120718e+01</td>\n",
       "      <td>5.700000e+01</td>\n",
       "      <td>4.023900e+04</td>\n",
       "    </tr>\n",
       "    <tr>\n",
       "      <th>max</th>\n",
       "      <td>2.894890e+04</td>\n",
       "      <td>9.452136e+01</td>\n",
       "      <td>9.600000e+01</td>\n",
       "      <td>1.341471e+06</td>\n",
       "    </tr>\n",
       "  </tbody>\n",
       "</table>\n",
       "</div>"
      ],
      "text/plain": [
       "                amt      distance           age       recency\n",
       "count  1.296675e+06  1.296675e+06  1.296675e+06  1.296675e+06\n",
       "mean   7.035104e+01  4.729552e+01  4.602930e+01  3.246039e+04\n",
       "std    1.603160e+02  1.809245e+01  1.738237e+01  4.733114e+04\n",
       "min    1.000000e+00  1.382833e-02  1.400000e+01  0.000000e+00\n",
       "25%    9.650000e+00  3.438357e+01  3.300000e+01  6.004000e+03\n",
       "50%    4.752000e+01  4.861102e+01  4.400000e+01  1.656300e+04\n",
       "75%    8.314000e+01  6.120718e+01  5.700000e+01  4.023900e+04\n",
       "max    2.894890e+04  9.452136e+01  9.600000e+01  1.341471e+06"
      ]
     },
     "execution_count": 5,
     "metadata": {},
     "output_type": "execute_result"
    }
   ],
   "source": [
    "# num_df 이상치 식별\n",
    "num_df.describe()"
   ]
  },
  {
   "cell_type": "code",
   "execution_count": 6,
   "metadata": {},
   "outputs": [
    {
     "data": {
      "image/png": "[encoded data removed]",
      "text/plain": [
       "<Figure size 1000x1000 with 4 Axes>"
      ]
     },
     "metadata": {},
     "output_type": "display_data"
    }
   ],
   "source": [
    "# 수치형 데이터의 이상치를 boxplot으로 시각화\n",
    "plt.figure(figsize = (10, 10))\n",
    "\n",
    "plt.subplot(2,2,1)\n",
    "plt.boxplot(num_df['amt'])\n",
    "plt.title('amt')\n",
    "\n",
    "plt.subplot(2,2,2)\n",
    "plt.boxplot(num_df['distance'])\n",
    "plt.title('distance')\n",
    "\n",
    "plt.subplot(2,2,3)\n",
    "plt.boxplot(num_df['age'])\n",
    "plt.title('age')\n",
    "\n",
    "plt.subplot(2,2,4)\n",
    "plt.boxplot(num_df['recency'])\n",
    "plt.title('recency')\n",
    "\n",
    "plt.show()"
   ]
  },
  {
   "cell_type": "code",
   "execution_count": 6,
   "metadata": {},
   "outputs": [],
   "source": [
    "# 이상치 값들만 뽑아내는 함수 생성\n",
    "\n",
    "def outliers_ipr(df, col):\n",
    "    ## 1사분위수, 3사분위수 변수에 대입\n",
    "    quartile_1, quartile_3 = np.percentile(df[col], [25, 75]) # np.percentile은 영상의 intensity 중 분위수를 구해주는 함수\n",
    "    ## iqr 값을 대입\n",
    "    iqr = quartile_3 - quartile_1\n",
    "    ## 하단 경계 값, 상단 경계 값\n",
    "    lower_whis = quartile_1 - (1.5 * iqr)\n",
    "    upper_whis = quartile_3 + (1.5 * iqr)\n",
    "    ## 데이터프레임에서 상단 경계보다 크거나 하단의 경계보다 작은 데이터를 출력\n",
    "    outliers = df[(df[col] > upper_whis) | (df[col] < lower_whis)]\n",
    "    return outliers[[col]]"
   ]
  },
  {
   "cell_type": "code",
   "execution_count": 7,
   "metadata": {},
   "outputs": [
    {
     "name": "stdout",
     "output_type": "stream",
     "text": [
      "amt 이상치 개수 : 67290\n"
     ]
    }
   ],
   "source": [
    "# amt 이상치 \n",
    "result = outliers_ipr(df, 'amt')\n",
    "# 새로운 amt_ind 변수에 amt 이상치 인덱스 저장\n",
    "amt_ind = result.index\n",
    "print('amt 이상치 개수 :', len(result))"
   ]
  },
  {
   "cell_type": "code",
   "execution_count": 8,
   "metadata": {},
   "outputs": [
    {
     "name": "stdout",
     "output_type": "stream",
     "text": [
      "age 이상치 개수 : 2258\n"
     ]
    }
   ],
   "source": [
    "# age 이상치\n",
    "result1 = outliers_ipr(df, 'age')\n",
    "# 새로운 age_ind 변수에 age 이상치 인덱스 저장\n",
    "age_ind = result1.index\n",
    "print('age 이상치 개수 :', len(result1))"
   ]
  },
  {
   "cell_type": "code",
   "execution_count": 9,
   "metadata": {},
   "outputs": [
    {
     "name": "stdout",
     "output_type": "stream",
     "text": [
      "recency 이상치 개수 : 96813\n"
     ]
    }
   ],
   "source": [
    "# recency 이상치\n",
    "result2 = outliers_ipr(df, 'recency')\n",
    "# 새로운 recency_ind 변수에 recency 이상치 인덱스 저장\n",
    "recency_ind = result2.index\n",
    "print('recency 이상치 개수 :', len(result2))"
   ]
  },
  {
   "cell_type": "code",
   "execution_count": 10,
   "metadata": {},
   "outputs": [
    {
     "name": "stdout",
     "output_type": "stream",
     "text": [
      "amt,age,recency 총 인덱스 개수 : 166361\n",
      "amt,age,recency 중복 인덱스 제거한 인덱스 개수 : 161715\n",
      "amt,age,recency 교집합 인덱스 개수 : 4646\n"
     ]
    }
   ],
   "source": [
    "# amt_ind, age_ind, recency_ind 인덱스 합집합을 새로운 all_ind 변수에 저장 \n",
    "all_ind = list(set().union(amt_ind, age_ind, recency_ind))\n",
    "\n",
    "print('amt,age,recency 총 인덱스 개수 :',len(amt_ind)+len(age_ind)+len(recency_ind))\n",
    "\n",
    "print('amt,age,recency 중복 인덱스 제거한 인덱스 개수 :',len(all_ind))\n",
    "\n",
    "print('amt,age,recency 교집합 인덱스 개수 :', (len(amt_ind)+len(age_ind)+len(recency_ind)) - len(all_ind))"
   ]
  },
  {
   "cell_type": "code",
   "execution_count": 11,
   "metadata": {},
   "outputs": [
    {
     "data": {
      "text/plain": [
       "0    1289169\n",
       "1       7506\n",
       "Name: is_fraud, dtype: int64"
      ]
     },
     "execution_count": 11,
     "metadata": {},
     "output_type": "execute_result"
    }
   ],
   "source": [
    "# 이상거래 유무 확인(이상치 포함O)\n",
    "df['is_fraud'].value_counts()"
   ]
  },
  {
   "cell_type": "code",
   "execution_count": 12,
   "metadata": {},
   "outputs": [
    {
     "data": {
      "text/plain": [
       "Int64Index([      0,       1,       3,       4,       5,       6,       7,\n",
       "                  8,      10,      11,\n",
       "            ...\n",
       "            1296665, 1296666, 1296667, 1296668, 1296669, 1296670, 1296671,\n",
       "            1296672, 1296673, 1296674],\n",
       "           dtype='int64', length=1134960)"
      ]
     },
     "execution_count": 12,
     "metadata": {},
     "output_type": "execute_result"
    }
   ],
   "source": [
    "# 이상치제거 인덱스\n",
    "diff_ind = df.index.difference(all_ind)\n",
    "diff_ind"
   ]
  },
  {
   "cell_type": "code",
   "execution_count": 33,
   "metadata": {},
   "outputs": [
    {
     "data": {
      "text/plain": [
       "is_fraud\n",
       "0           1133201\n",
       "1              1759\n",
       "dtype: int64"
      ]
     },
     "execution_count": 33,
     "metadata": {},
     "output_type": "execute_result"
    }
   ],
   "source": [
    "# 이상치 제거 후 is_fraud 개수\n",
    "df.loc[diff_ind,:][['is_fraud']].value_counts()"
   ]
  },
  {
   "cell_type": "code",
   "execution_count": 47,
   "metadata": {},
   "outputs": [
    {
     "data": {
      "text/plain": [
       "<AxesSubplot: xlabel='is_fraud'>"
      ]
     },
     "execution_count": 47,
     "metadata": {},
     "output_type": "execute_result"
    },
    {
     "data": {
      "image/png": "[encoded data removed]",
      "text/plain": [
       "<Figure size 640x480 with 1 Axes>"
      ]
     },
     "metadata": {},
     "output_type": "display_data"
    }
   ],
   "source": [
    "df.loc[diff_ind,:].groupby('is_fraud').count()[['category']].plot(kind='bar')"
   ]
  },
  {
   "cell_type": "code",
   "execution_count": 14,
   "metadata": {},
   "outputs": [
    {
     "data": {
      "text/plain": [
       "is_fraud\n",
       "0           155968\n",
       "1             5747\n",
       "dtype: int64"
      ]
     },
     "execution_count": 14,
     "metadata": {},
     "output_type": "execute_result"
    }
   ],
   "source": [
    "# 이상치에서의 is_fraud 개수\n",
    "df.loc[all_ind,:][['is_fraud']].value_counts()"
   ]
  },
  {
   "cell_type": "code",
   "execution_count": 40,
   "metadata": {},
   "outputs": [
    {
     "data": {
      "text/plain": [
       "<AxesSubplot: ylabel='is_fraud'>"
      ]
     },
     "execution_count": 40,
     "metadata": {},
     "output_type": "execute_result"
    },
    {
     "data": {
      "image/png": "[encoded data removed]",
      "text/plain": [
       "<Figure size 640x480 with 1 Axes>"
      ]
     },
     "metadata": {},
     "output_type": "display_data"
    }
   ],
   "source": [
    "df.loc[all_ind,:].groupby('is_fraud').count()[['category']].plot(kind='barh')"
   ]
  },
  {
   "attachments": {},
   "cell_type": "markdown",
   "metadata": {},
   "source": [
    "### 이상치제거\n",
    " - 이상거래를 예측하는 모델에서 이상값을 제거하지 않은 데이터 피팅이 더 예측력이 높을 것 같다는 설정을함 \n",
    " - 따라서, 이상치를 제거하지 않음"
   ]
  },
  {
   "cell_type": "code",
   "execution_count": null,
   "metadata": {},
   "outputs": [],
   "source": []
  }
 ],
 "metadata": {
  "kernelspec": {
   "display_name": "Python 3",
   "language": "python",
   "name": "python3"
  },
  "language_info": {
   "codemirror_mode": {
    "name": "ipython",
    "version": 3
   },
   "file_extension": ".py",
   "mimetype": "text/x-python",
   "name": "python",
   "nbconvert_exporter": "python",
   "pygments_lexer": "ipython3",
   "version": "3.11.1"
  },
  "orig_nbformat": 4,
  "vscode": {
   "interpreter": {
    "hash": "c5277a81a9da52a49a2b886d0d6ae3abc1e36ca7562b0a3634da11c6d24bad68"
   }
  }
 },
 "nbformat": 4,
 "nbformat_minor": 2
}

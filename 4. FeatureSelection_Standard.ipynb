{
 "cells": [
  {
   "cell_type": "code",
   "execution_count": 12,
   "metadata": {},
   "outputs": [],
   "source": [
    "import pandas as pd\n",
    "import numpy as np\n",
    "import matplotlib.pyplot as plt\n",
    "import matplotlib.ticker as ticker\n",
    "import seaborn as sns\n",
    "from datetime import datetime\n",
    "import warnings\n",
    "warnings.filterwarnings(\"ignore\")\n",
    "\n",
    "from imblearn.under_sampling import RandomUnderSampler\n",
    "from imblearn.over_sampling import SMOTE\n",
    "from sklearn.metrics import accuracy_score,f1_score,recall_score,precision_score,confusion_matrix,ConfusionMatrixDisplay,roc_curve,roc_auc_score,precision_recall_curve\n",
    "from sklearn.ensemble import RandomForestClassifier \n",
    "from sklearn.svm import SVC\n",
    "from sklearn.neighbors import KNeighborsClassifier\n",
    "from sklearn.linear_model import LogisticRegression,Lasso\n",
    "from sklearn.preprocessing import OneHotEncoder,StandardScaler,MinMaxScaler,Binarizer\n",
    "from sklearn.model_selection import cross_val_score,GridSearchCV"
   ]
  },
  {
   "cell_type": "code",
   "execution_count": 13,
   "metadata": {},
   "outputs": [],
   "source": [
    "train_df = pd.read_csv('./datasets/train_data(Sampling완료).csv', encoding=\"utf-8-sig\", index_col=0)\n",
    "test_df = pd.read_csv('./datasets/test_data(Sampling완료).csv', encoding=\"utf-8-sig\", index_col=0)"
   ]
  },
  {
   "cell_type": "code",
   "execution_count": 14,
   "metadata": {},
   "outputs": [],
   "source": [
    "X_train = train_df.drop(columns=['이상거래'], axis=1)\n",
    "y_train = train_df[['이상거래']]\n",
    "\n",
    "X_test = test_df.drop(columns=['이상거래'], axis=1)\n",
    "y_test = test_df[['이상거래']]"
   ]
  },
  {
   "attachments": {},
   "cell_type": "markdown",
   "metadata": {},
   "source": [
    "---\n",
    "# Standard Scaling"
   ]
  },
  {
   "cell_type": "code",
   "execution_count": 15,
   "metadata": {},
   "outputs": [],
   "source": [
    "X_train_1 = X_train[['거래량', '카드거래발생거리','실소유자나이','카드거래간시간']]\n",
    "X_train_concat = X_train.drop(columns=['거래량', '카드거래발생거리','실소유자나이','카드거래간시간'], axis=1)\n",
    "\n",
    "X_test_1 = X_test[['거래량', '카드거래발생거리','실소유자나이','카드거래간시간']]\n",
    "X_test_concat = X_test.drop(columns=['거래량', '카드거래발생거리','실소유자나이','카드거래간시간'], axis=1)"
   ]
  },
  {
   "cell_type": "code",
   "execution_count": 16,
   "metadata": {},
   "outputs": [],
   "source": [
    "X_train_concat.reset_index(drop=True, inplace=True)\n",
    "y_train.reset_index(drop=True, inplace=True)\n",
    "\n",
    "X_test_concat.reset_index(drop=True, inplace=True)\n",
    "y_test.reset_index(drop=True, inplace=True)"
   ]
  },
  {
   "cell_type": "code",
   "execution_count": 17,
   "metadata": {},
   "outputs": [],
   "source": [
    "from sklearn.preprocessing import StandardScaler\n",
    "# StandardScaler() Scaler객체 생성.\n",
    "scaler = StandardScaler()\n",
    "# 학습 데이터에 대해서 fit(), transform() 수행.\n",
    "scaler.fit(X_train_1)\n",
    "train_scaled_SS = scaler.transform(X_train_1)\n",
    "# transform()시 scale 변환된 데이터 셋이 numpy ndarry로 반환되어 이를 DataFrame으로 변환\n",
    "X_train_SS = pd.DataFrame(data = train_scaled_SS, columns=X_train_1.columns)\n",
    "\n",
    "# 테스트 데이터에서는 다시 fit(), transform()이나 fit_transform()을 수행하지 않고 transform만 수행.\n",
    "test_scaled_SS = scaler.transform(X_test_1)\n",
    "# transform()시 scale 변환된 데이터 셋이 numpy ndarry로 반환되어 이를 DataFrame으로 변환\n",
    "X_test_SS = pd.DataFrame(data = test_scaled_SS, columns=X_test_1.columns)"
   ]
  },
  {
   "cell_type": "code",
   "execution_count": 18,
   "metadata": {},
   "outputs": [],
   "source": [
    "X_train = pd.concat([X_train_SS, X_train_concat], axis=1)\n",
    "X_test = pd.concat([X_test_SS, X_test_concat], axis=1)"
   ]
  },
  {
   "attachments": {},
   "cell_type": "markdown",
   "metadata": {},
   "source": [
    "# feature_selection"
   ]
  },
  {
   "cell_type": "code",
   "execution_count": 20,
   "metadata": {},
   "outputs": [
    {
     "name": "stdout",
     "output_type": "stream",
     "text": [
      "<bound method BaseEstimator.get_params of RandomForestClassifier(max_depth=5, min_samples_leaf=2, min_samples_split=1,\n",
      "                       random_state=1)>\n"
     ]
    }
   ],
   "source": [
    "## 랜덤포레스트에서 최적의 하이퍼 파라미터를 찾아서 \n",
    "## 적합후 feature_importance 변수 선택\n",
    "rf = RandomForestClassifier(random_state=1)\n",
    "param = {\n",
    "    'max_depth':[2,3,4,5],\n",
    "    'min_samples_split' : [1,2,3],\n",
    "    'min_samples_leaf' : [1,2]\n",
    "}\n",
    "\n",
    "grid_rf = GridSearchCV(rf,param_grid=param,cv=5,refit=True,scoring='accuracy')\n",
    "grid_rf.fit(X_train,y_train)\n",
    "\n",
    "scores_df = pd.DataFrame(grid_rf.cv_results_)\n",
    "scores_df.iloc[:,4:]\n",
    "\n",
    "best_rf = grid_rf.best_estimator_  # 최적의 하이퍼파라미터를 적합한 모델\n",
    "print(best_rf.get_params)"
   ]
  },
  {
   "attachments": {},
   "cell_type": "markdown",
   "metadata": {},
   "source": [
    "### 랜덤포레스트 \n",
    "### 최적의 하이퍼파라미터{'max_depth': 5, 'min_samples_leaf': 2, 'min_samples_split': 1}"
   ]
  },
  {
   "cell_type": "code",
   "execution_count": 21,
   "metadata": {},
   "outputs": [
    {
     "name": "stdout",
     "output_type": "stream",
     "text": [
      "거래량                        0.350683\n",
      "주간                         0.238294\n",
      "야간                         0.094941\n",
      "카드거래간시간                    0.052092\n",
      "하반기                        0.046757\n",
      "상반기                        0.033026\n",
      "남성                         0.025689\n",
      "중서부                        0.025632\n",
      "남부                         0.024894\n",
      "여성                         0.021500\n",
      "소도시                        0.018266\n",
      "북동부                        0.015359\n",
      "대도시                        0.013600\n",
      "서부                         0.009405\n",
      "category_home              0.004879\n",
      "중소도시                       0.004736\n",
      "category_kids_pets         0.004054\n",
      "category_health_fitness    0.002946\n",
      "category_misc_pos          0.002699\n",
      "category_gas_transport     0.001806\n",
      "category_travel            0.001479\n",
      "category_grocery_pos       0.001388\n",
      "category_personal_care     0.001009\n",
      "category_grocery_net       0.000955\n",
      "category_food_dining       0.000945\n",
      "category_shopping_pos      0.000926\n",
      "category_shopping_net      0.000761\n",
      "실소유자나이                     0.000635\n",
      "category_misc_net          0.000302\n",
      "category_entertainment     0.000288\n",
      "카드거래발생거리                   0.000056\n",
      "dtype: float64\n",
      "교차검증 평균 정확도 : 0.9559668823753331\n"
     ]
    },
    {
     "data": {
      "image/png": "[encoded data removed]",
      "text/plain": [
       "<Figure size 640x480 with 1 Axes>"
      ]
     },
     "metadata": {},
     "output_type": "display_data"
    }
   ],
   "source": [
    "import matplotlib\n",
    "matplotlib.rcParams['font.family'] ='Malgun Gothic'\n",
    "\n",
    "best_rf.fit(X_train,y_train)\n",
    "importance= pd.Series(index=X_train.columns,data=best_rf.feature_importances_)\n",
    "ft_im = importance.sort_values(ascending=False)\n",
    "print(ft_im)\n",
    "\n",
    "score = cross_val_score(best_rf, X=X_train, y=y_train, cv=5, scoring='accuracy')\n",
    "print(f'교차검증 평균 정확도 : {np.mean(score)}')\n",
    "\n",
    "#plt.figure(figsize=(8,6))\n",
    "plt.title(\"Feature importances \")\n",
    "sns.barplot(x=ft_im,y=ft_im.index)\n",
    "plt.show()\n",
    "\n",
    "\n",
    "## 시각화를 통핟여 선정된 피쳐\n",
    "## ['거래량','야간',주간','카드거래간시간','기타거래','온라인거래','오프라인거래','실소유자나이','하반기','상반기']"
   ]
  },
  {
   "cell_type": "code",
   "execution_count": 26,
   "metadata": {},
   "outputs": [
    {
     "name": "stdout",
     "output_type": "stream",
     "text": [
      "   param_C param_penalty                         params  split0_test_score  \\\n",
      "0    0.005            l1  {'C': 0.005, 'penalty': 'l1'}           0.849734   \n",
      "1    0.005            l2  {'C': 0.005, 'penalty': 'l2'}           0.878426   \n",
      "2     0.01            l1   {'C': 0.01, 'penalty': 'l1'}           0.844452   \n",
      "3     0.01            l2   {'C': 0.01, 'penalty': 'l2'}           0.868100   \n",
      "4     0.05            l1   {'C': 0.05, 'penalty': 'l1'}           0.817948   \n",
      "5     0.05            l2   {'C': 0.05, 'penalty': 'l2'}           0.843167   \n",
      "6      0.1            l1    {'C': 0.1, 'penalty': 'l1'}           0.810906   \n",
      "7      0.1            l2    {'C': 0.1, 'penalty': 'l2'}           0.833508   \n",
      "8        1            l1      {'C': 1, 'penalty': 'l1'}           0.811334   \n",
      "9        1            l2      {'C': 1, 'penalty': 'l2'}           0.810478   \n",
      "10       2            l1      {'C': 2, 'penalty': 'l1'}           0.812571   \n",
      "11       2            l2      {'C': 2, 'penalty': 'l2'}           0.808099   \n",
      "\n",
      "    split1_test_score  split2_test_score  split3_test_score  \\\n",
      "0            0.979968           0.978112           0.980348   \n",
      "1            0.970594           0.971831           0.973734   \n",
      "2            0.987248           0.985535           0.986962   \n",
      "3            0.979349           0.979016           0.981300   \n",
      "4            0.991388           0.990626           0.991816   \n",
      "5            0.988675           0.987771           0.988866   \n",
      "6            0.994385           0.994528           0.994338   \n",
      "7            0.990912           0.990246           0.991197   \n",
      "8            0.995289           0.995384           0.994766   \n",
      "9            0.994671           0.994623           0.994338   \n",
      "10           0.995527           0.995384           0.994813   \n",
      "11           0.994766           0.994766           0.994480   \n",
      "\n",
      "    split4_test_score  mean_test_score  std_test_score  rank_test_score  \n",
      "0            0.979587         0.953550        0.051914               11  \n",
      "1            0.972640         0.953445        0.037524               12  \n",
      "2            0.987010         0.958241        0.056898                5  \n",
      "3            0.980443         0.957642        0.044778                8  \n",
      "4            0.991768         0.956709        0.069382               10  \n",
      "5            0.989151         0.959526        0.058181                1  \n",
      "6            0.994528         0.957737        0.073416                7  \n",
      "7            0.991483         0.959469        0.062982                2  \n",
      "8            0.995289         0.958413        0.073540                4  \n",
      "9            0.994718         0.957766        0.073644                6  \n",
      "10           0.995289         0.958717        0.073073                3  \n",
      "11           0.994813         0.957385        0.074643                9  \n"
     ]
    }
   ],
   "source": [
    "## 로지스틱 라쏘규제에서 최적의 하이퍼 파라미터를 찾아서 \n",
    "## 적합후 coefficients를 통하여 변수 선택(0은 설명력 부족한 변수)\n",
    "lr=LogisticRegression(random_state=1,solver='liblinear')\n",
    "param = {'C':[0.005,0.01,0.05,0.1,1,2],\n",
    "         'penalty':['l1','l2']}\n",
    "\n",
    "grid_lr = GridSearchCV(lr,param_grid=param,cv=5,refit=True,scoring='accuracy')\n",
    "grid_lr.fit(X_train,y_train)\n",
    "\n",
    "scores_df = pd.DataFrame(grid_lr.cv_results_)\n",
    "print(scores_df.iloc[:,4:])\n",
    "\n",
    "best_lr = grid_lr.best_estimator_  # 최적의 하이퍼파라미터를 적합한 모델"
   ]
  },
  {
   "cell_type": "code",
   "execution_count": 23,
   "metadata": {},
   "outputs": [
    {
     "data": {
      "text/html": [
       "<style>#sk-container-id-1 {color: black;background-color: white;}#sk-container-id-1 pre{padding: 0;}#sk-container-id-1 div.sk-toggleable {background-color: white;}#sk-container-id-1 label.sk-toggleable__label {cursor: pointer;display: block;width: 100%;margin-bottom: 0;padding: 0.3em;box-sizing: border-box;text-align: center;}#sk-container-id-1 label.sk-toggleable__label-arrow:before {content: \"▸\";float: left;margin-right: 0.25em;color: #696969;}#sk-container-id-1 label.sk-toggleable__label-arrow:hover:before {color: black;}#sk-container-id-1 div.sk-estimator:hover label.sk-toggleable__label-arrow:before {color: black;}#sk-container-id-1 div.sk-toggleable__content {max-height: 0;max-width: 0;overflow: hidden;text-align: left;background-color: #f0f8ff;}#sk-container-id-1 div.sk-toggleable__content pre {margin: 0.2em;color: black;border-radius: 0.25em;background-color: #f0f8ff;}#sk-container-id-1 input.sk-toggleable__control:checked~div.sk-toggleable__content {max-height: 200px;max-width: 100%;overflow: auto;}#sk-container-id-1 input.sk-toggleable__control:checked~label.sk-toggleable__label-arrow:before {content: \"▾\";}#sk-container-id-1 div.sk-estimator input.sk-toggleable__control:checked~label.sk-toggleable__label {background-color: #d4ebff;}#sk-container-id-1 div.sk-label input.sk-toggleable__control:checked~label.sk-toggleable__label {background-color: #d4ebff;}#sk-container-id-1 input.sk-hidden--visually {border: 0;clip: rect(1px 1px 1px 1px);clip: rect(1px, 1px, 1px, 1px);height: 1px;margin: -1px;overflow: hidden;padding: 0;position: absolute;width: 1px;}#sk-container-id-1 div.sk-estimator {font-family: monospace;background-color: #f0f8ff;border: 1px dotted black;border-radius: 0.25em;box-sizing: border-box;margin-bottom: 0.5em;}#sk-container-id-1 div.sk-estimator:hover {background-color: #d4ebff;}#sk-container-id-1 div.sk-parallel-item::after {content: \"\";width: 100%;border-bottom: 1px solid gray;flex-grow: 1;}#sk-container-id-1 div.sk-label:hover label.sk-toggleable__label {background-color: #d4ebff;}#sk-container-id-1 div.sk-serial::before {content: \"\";position: absolute;border-left: 1px solid gray;box-sizing: border-box;top: 0;bottom: 0;left: 50%;z-index: 0;}#sk-container-id-1 div.sk-serial {display: flex;flex-direction: column;align-items: center;background-color: white;padding-right: 0.2em;padding-left: 0.2em;position: relative;}#sk-container-id-1 div.sk-item {position: relative;z-index: 1;}#sk-container-id-1 div.sk-parallel {display: flex;align-items: stretch;justify-content: center;background-color: white;position: relative;}#sk-container-id-1 div.sk-item::before, #sk-container-id-1 div.sk-parallel-item::before {content: \"\";position: absolute;border-left: 1px solid gray;box-sizing: border-box;top: 0;bottom: 0;left: 50%;z-index: -1;}#sk-container-id-1 div.sk-parallel-item {display: flex;flex-direction: column;z-index: 1;position: relative;background-color: white;}#sk-container-id-1 div.sk-parallel-item:first-child::after {align-self: flex-end;width: 50%;}#sk-container-id-1 div.sk-parallel-item:last-child::after {align-self: flex-start;width: 50%;}#sk-container-id-1 div.sk-parallel-item:only-child::after {width: 0;}#sk-container-id-1 div.sk-dashed-wrapped {border: 1px dashed gray;margin: 0 0.4em 0.5em 0.4em;box-sizing: border-box;padding-bottom: 0.4em;background-color: white;}#sk-container-id-1 div.sk-label label {font-family: monospace;font-weight: bold;display: inline-block;line-height: 1.2em;}#sk-container-id-1 div.sk-label-container {text-align: center;}#sk-container-id-1 div.sk-container {/* jupyter's `normalize.less` sets `[hidden] { display: none; }` but bootstrap.min.css set `[hidden] { display: none !important; }` so we also need the `!important` here to be able to override the default hidden behavior on the sphinx rendered scikit-learn.org. See: https://github.com/scikit-learn/scikit-learn/issues/21755 */display: inline-block !important;position: relative;}#sk-container-id-1 div.sk-text-repr-fallback {display: none;}</style><div id=\"sk-container-id-1\" class=\"sk-top-container\"><div class=\"sk-text-repr-fallback\"><pre>LogisticRegression(C=2, penalty=&#x27;l1&#x27;, random_state=1, solver=&#x27;liblinear&#x27;)</pre><b>In a Jupyter environment, please rerun this cell to show the HTML representation or trust the notebook. <br />On GitHub, the HTML representation is unable to render, please try loading this page with nbviewer.org.</b></div><div class=\"sk-container\" hidden><div class=\"sk-item\"><div class=\"sk-estimator sk-toggleable\"><input class=\"sk-toggleable__control sk-hidden--visually\" id=\"sk-estimator-id-1\" type=\"checkbox\" checked><label for=\"sk-estimator-id-1\" class=\"sk-toggleable__label sk-toggleable__label-arrow\">LogisticRegression</label><div class=\"sk-toggleable__content\"><pre>LogisticRegression(C=2, penalty=&#x27;l1&#x27;, random_state=1, solver=&#x27;liblinear&#x27;)</pre></div></div></div></div></div>"
      ],
      "text/plain": [
       "LogisticRegression(C=2, penalty='l1', random_state=1, solver='liblinear')"
      ]
     },
     "execution_count": 23,
     "metadata": {},
     "output_type": "execute_result"
    }
   ],
   "source": [
    "best_lr"
   ]
  },
  {
   "cell_type": "code",
   "execution_count": 27,
   "metadata": {},
   "outputs": [
    {
     "name": "stdout",
     "output_type": "stream",
     "text": [
      "거래량                        2.483698\n",
      "야간                         0.262947\n",
      "실소유자나이                     0.044730\n",
      "카드거래발생거리                  -0.003661\n",
      "카드거래간시간                   -0.243679\n",
      "category_grocery_pos      -1.047178\n",
      "category_gas_transport    -1.231712\n",
      "category_personal_care    -1.391151\n",
      "category_kids_pets        -1.543881\n",
      "category_grocery_net      -1.704938\n",
      "상반기                       -1.719595\n",
      "category_health_fitness   -1.755029\n",
      "category_food_dining      -1.787385\n",
      "category_travel           -1.801387\n",
      "소도시                       -1.829645\n",
      "여성                        -1.875359\n",
      "category_misc_pos         -1.909898\n",
      "category_home             -1.922468\n",
      "남성                        -1.956909\n",
      "주간                        -1.984510\n",
      "대도시                       -2.027479\n",
      "중소도시                      -2.046808\n",
      "category_entertainment    -2.067424\n",
      "하반기                       -2.203314\n",
      "category_misc_net         -2.225592\n",
      "중서부                       -2.689227\n",
      "남부                        -2.693183\n",
      "category_shopping_net     -2.739570\n",
      "북동부                       -2.823437\n",
      "서부                        -2.866456\n",
      "category_shopping_pos     -2.885077\n",
      "dtype: float64\n"
     ]
    },
    {
     "data": {
      "image/png": "[encoded data removed]",
      "text/plain": [
       "<Figure size 640x480 with 1 Axes>"
      ]
     },
     "metadata": {},
     "output_type": "display_data"
    }
   ],
   "source": [
    "### 로지스틱 라쏘\n",
    "### 최적의하이퍼파라미터 0.05\n",
    "la =LogisticRegression(random_state=1,penalty='l2',solver='liblinear',C=0.05)\n",
    "\n",
    "la.fit(X_train,y_train)\n",
    "la_col = pd.Series(la.coef_[0],index=X_train.columns).sort_values(ascending=False)\n",
    "print(la_col)\n",
    "\n",
    "plt.title(\"Feature coefficient\")\n",
    "sns.barplot(x=la_col,y=la_col.index)\n",
    "plt.show()\n",
    "\n",
    "## 시각화를 통핟여 선정된 피쳐\n",
    "## ['거래량','야간',주간','카드거래간시간',category,'실소유자나이','하반기','상반기']"
   ]
  },
  {
   "attachments": {},
   "cell_type": "markdown",
   "metadata": {},
   "source": [
    "- 피쳐 선택결과 유사한 변수선택됨 \n",
    "- 최종 features selection\n",
    "- colums = ['거래량', '야간', '실소유자나이', '하반기', '상반기', 주간','카드거래간시간','category',]\n",
    "- 주간이면 1 야간이면 0인 컬럼\n",
    "- 하반기면 1 상반기면 0인 컬럼"
   ]
  },
  {
   "cell_type": "code",
   "execution_count": 30,
   "metadata": {},
   "outputs": [
    {
     "data": {
      "text/plain": [
       "Index(['거래량', '카드거래발생거리', '실소유자나이', '카드거래간시간', '중서부', '북동부', '남부', '서부', '상반기',\n",
       "       '하반기', '주간', '야간', '대도시', '소도시', '중소도시', '남성', '여성',\n",
       "       'category_entertainment', 'category_food_dining',\n",
       "       'category_gas_transport', 'category_grocery_net',\n",
       "       'category_grocery_pos', 'category_health_fitness', 'category_home',\n",
       "       'category_kids_pets', 'category_misc_net', 'category_misc_pos',\n",
       "       'category_personal_care', 'category_shopping_net',\n",
       "       'category_shopping_pos', 'category_travel'],\n",
       "      dtype='object')"
      ]
     },
     "execution_count": 30,
     "metadata": {},
     "output_type": "execute_result"
    }
   ],
   "source": [
    "X_train.columns"
   ]
  },
  {
   "cell_type": "code",
   "execution_count": 34,
   "metadata": {},
   "outputs": [
    {
     "data": {
      "text/html": [
       "<div>\n",
       "<style scoped>\n",
       "    .dataframe tbody tr th:only-of-type {\n",
       "        vertical-align: middle;\n",
       "    }\n",
       "\n",
       "    .dataframe tbody tr th {\n",
       "        vertical-align: top;\n",
       "    }\n",
       "\n",
       "    .dataframe thead th {\n",
       "        text-align: right;\n",
       "    }\n",
       "</style>\n",
       "<table border=\"1\" class=\"dataframe\">\n",
       "  <thead>\n",
       "    <tr style=\"text-align: right;\">\n",
       "      <th></th>\n",
       "      <th>거래량</th>\n",
       "      <th>실소유자나이</th>\n",
       "      <th>중서부</th>\n",
       "      <th>북동부</th>\n",
       "      <th>남부</th>\n",
       "      <th>서부</th>\n",
       "      <th>하반기</th>\n",
       "      <th>야간</th>\n",
       "      <th>대도시</th>\n",
       "      <th>소도시</th>\n",
       "      <th>...</th>\n",
       "      <th>category_grocery_pos</th>\n",
       "      <th>category_health_fitness</th>\n",
       "      <th>category_home</th>\n",
       "      <th>category_kids_pets</th>\n",
       "      <th>category_misc_net</th>\n",
       "      <th>category_misc_pos</th>\n",
       "      <th>category_personal_care</th>\n",
       "      <th>category_shopping_net</th>\n",
       "      <th>category_shopping_pos</th>\n",
       "      <th>category_travel</th>\n",
       "    </tr>\n",
       "  </thead>\n",
       "  <tbody>\n",
       "    <tr>\n",
       "      <th>0</th>\n",
       "      <td>-0.540868</td>\n",
       "      <td>-0.900411</td>\n",
       "      <td>0</td>\n",
       "      <td>0</td>\n",
       "      <td>1</td>\n",
       "      <td>0</td>\n",
       "      <td>1</td>\n",
       "      <td>1</td>\n",
       "      <td>1</td>\n",
       "      <td>0</td>\n",
       "      <td>...</td>\n",
       "      <td>0</td>\n",
       "      <td>0</td>\n",
       "      <td>0</td>\n",
       "      <td>0</td>\n",
       "      <td>0</td>\n",
       "      <td>0</td>\n",
       "      <td>0</td>\n",
       "      <td>0</td>\n",
       "      <td>0</td>\n",
       "      <td>0</td>\n",
       "    </tr>\n",
       "    <tr>\n",
       "      <th>1</th>\n",
       "      <td>-0.779645</td>\n",
       "      <td>-0.006300</td>\n",
       "      <td>1</td>\n",
       "      <td>0</td>\n",
       "      <td>0</td>\n",
       "      <td>0</td>\n",
       "      <td>0</td>\n",
       "      <td>0</td>\n",
       "      <td>0</td>\n",
       "      <td>1</td>\n",
       "      <td>...</td>\n",
       "      <td>0</td>\n",
       "      <td>0</td>\n",
       "      <td>0</td>\n",
       "      <td>0</td>\n",
       "      <td>0</td>\n",
       "      <td>0</td>\n",
       "      <td>0</td>\n",
       "      <td>0</td>\n",
       "      <td>0</td>\n",
       "      <td>0</td>\n",
       "    </tr>\n",
       "    <tr>\n",
       "      <th>2</th>\n",
       "      <td>-0.649393</td>\n",
       "      <td>2.556819</td>\n",
       "      <td>0</td>\n",
       "      <td>0</td>\n",
       "      <td>0</td>\n",
       "      <td>1</td>\n",
       "      <td>1</td>\n",
       "      <td>1</td>\n",
       "      <td>0</td>\n",
       "      <td>1</td>\n",
       "      <td>...</td>\n",
       "      <td>0</td>\n",
       "      <td>0</td>\n",
       "      <td>0</td>\n",
       "      <td>0</td>\n",
       "      <td>0</td>\n",
       "      <td>0</td>\n",
       "      <td>0</td>\n",
       "      <td>0</td>\n",
       "      <td>0</td>\n",
       "      <td>0</td>\n",
       "    </tr>\n",
       "    <tr>\n",
       "      <th>3</th>\n",
       "      <td>-0.797015</td>\n",
       "      <td>-0.244730</td>\n",
       "      <td>0</td>\n",
       "      <td>0</td>\n",
       "      <td>1</td>\n",
       "      <td>0</td>\n",
       "      <td>0</td>\n",
       "      <td>1</td>\n",
       "      <td>0</td>\n",
       "      <td>1</td>\n",
       "      <td>...</td>\n",
       "      <td>0</td>\n",
       "      <td>0</td>\n",
       "      <td>0</td>\n",
       "      <td>0</td>\n",
       "      <td>0</td>\n",
       "      <td>0</td>\n",
       "      <td>0</td>\n",
       "      <td>0</td>\n",
       "      <td>1</td>\n",
       "      <td>0</td>\n",
       "    </tr>\n",
       "    <tr>\n",
       "      <th>4</th>\n",
       "      <td>-0.734202</td>\n",
       "      <td>-1.079234</td>\n",
       "      <td>0</td>\n",
       "      <td>0</td>\n",
       "      <td>1</td>\n",
       "      <td>0</td>\n",
       "      <td>0</td>\n",
       "      <td>1</td>\n",
       "      <td>0</td>\n",
       "      <td>0</td>\n",
       "      <td>...</td>\n",
       "      <td>0</td>\n",
       "      <td>0</td>\n",
       "      <td>0</td>\n",
       "      <td>0</td>\n",
       "      <td>0</td>\n",
       "      <td>0</td>\n",
       "      <td>0</td>\n",
       "      <td>1</td>\n",
       "      <td>0</td>\n",
       "      <td>0</td>\n",
       "    </tr>\n",
       "  </tbody>\n",
       "</table>\n",
       "<p>5 rows × 25 columns</p>\n",
       "</div>"
      ],
      "text/plain": [
       "        거래량    실소유자나이  중서부  북동부  남부  서부  하반기  야간  대도시  소도시  ...  \\\n",
       "0 -0.540868 -0.900411    0    0   1   0    1   1    1    0  ...   \n",
       "1 -0.779645 -0.006300    1    0   0   0    0   0    0    1  ...   \n",
       "2 -0.649393  2.556819    0    0   0   1    1   1    0    1  ...   \n",
       "3 -0.797015 -0.244730    0    0   1   0    0   1    0    1  ...   \n",
       "4 -0.734202 -1.079234    0    0   1   0    0   1    0    0  ...   \n",
       "\n",
       "   category_grocery_pos  category_health_fitness  category_home  \\\n",
       "0                     0                        0              0   \n",
       "1                     0                        0              0   \n",
       "2                     0                        0              0   \n",
       "3                     0                        0              0   \n",
       "4                     0                        0              0   \n",
       "\n",
       "   category_kids_pets  category_misc_net  category_misc_pos  \\\n",
       "0                   0                  0                  0   \n",
       "1                   0                  0                  0   \n",
       "2                   0                  0                  0   \n",
       "3                   0                  0                  0   \n",
       "4                   0                  0                  0   \n",
       "\n",
       "   category_personal_care  category_shopping_net  category_shopping_pos  \\\n",
       "0                       0                      0                      0   \n",
       "1                       0                      0                      0   \n",
       "2                       0                      0                      0   \n",
       "3                       0                      0                      1   \n",
       "4                       0                      1                      0   \n",
       "\n",
       "   category_travel  \n",
       "0                0  \n",
       "1                0  \n",
       "2                0  \n",
       "3                0  \n",
       "4                0  \n",
       "\n",
       "[5 rows x 25 columns]"
      ]
     },
     "execution_count": 34,
     "metadata": {},
     "output_type": "execute_result"
    }
   ],
   "source": [
    "x_selec = X_train[['거래량', '실소유자나이', '중서부', '북동부', '남부', '서부','하반기', '야간', '대도시', '소도시', '중소도시', \n",
    "'category_entertainment', 'category_food_dining', 'category_gas_transport', 'category_grocery_net', 'category_grocery_pos', 'category_health_fitness',\n",
    "'category_home', 'category_kids_pets', 'category_misc_net', 'category_misc_pos', 'category_personal_care', 'category_shopping_net', \n",
    "'category_shopping_pos', 'category_travel']]\n",
    "\n",
    "x_selec.head()"
   ]
  },
  {
   "cell_type": "code",
   "execution_count": null,
   "metadata": {},
   "outputs": [],
   "source": [
    "import statsmodels.api as sm\n",
    "from statsmodels.stats.outliers_influence import variance_inflation_factor\n",
    "\n",
    "def vif_feature(x_train):\n",
    "    vif = pd.DataFrame()\n",
    "    vif['VIF_factor'] = [variance_inflation_factor(x_train.values,i) for i in range(x_train.shape[1])]\n",
    "    vif['feature'] = x_train.columns\n",
    "    return vif\n",
    "    \n",
    "vif =vif_feature(x_selec)\n",
    "vif"
   ]
  }
 ],
 "metadata": {
  "kernelspec": {
   "display_name": "Python 3",
   "language": "python",
   "name": "python3"
  },
  "language_info": {
   "codemirror_mode": {
    "name": "ipython",
    "version": 3
   },
   "file_extension": ".py",
   "mimetype": "text/x-python",
   "name": "python",
   "nbconvert_exporter": "python",
   "pygments_lexer": "ipython3",
   "version": "3.11.1"
  },
  "orig_nbformat": 4,
  "vscode": {
   "interpreter": {
    "hash": "c5277a81a9da52a49a2b886d0d6ae3abc1e36ca7562b0a3634da11c6d24bad68"
   }
  }
 },
 "nbformat": 4,
 "nbformat_minor": 2
}
